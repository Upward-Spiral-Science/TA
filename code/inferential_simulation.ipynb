{
 "cells": [
  {
   "cell_type": "markdown",
   "metadata": {},
   "source": [
    "## Formal Simulated Inference\n",
    "\n",
    "### Step 1: Define formal test\n",
    "\n",
    "**all wrong. forget it.**\n",
    "\n",
    "If our brains are samples X<sub>i</sub> in \\mathcal\\{X\\}, then the observed graphs are Y<sub>i</sub><sup>q</sup> = f<sub>q</sub>(X<sub>i</sub>), for processing strategies f<sub>q</sub> where q=1,...,Q, and where f<sub>q</sub>: X<sub>i</sub> \\sim Y<sub>i</sub>. If we are asking whether or not using the same functional f improves descriminability, our alernate and hypothesis and null become:\n",
    "\n",
    "p( ||A<sub>xy</sub> - A<sub>x'y</sub>|| \\leq || A<sub>xy</sub> - A<sub>x'y'</sub> || ), where x is the graph observed and y is the label associated with the observed graph. If a superscript indicates processing technique, we have:\n",
    "\n",
    "*H<sub>A</sub>*: p( ||Y<sub>ij</sub><sup>q</sup> - Y<sub>ij'</sub><sup>q</sup>|| < || Y<sub>ij</sub><sup>q</sup> - Y<sub>i'j'</sub><sup>q'</sup> || ) <br/>\n",
    "*H<sub>0</sub>*: p( ||Y<sub>ij</sub><sup>q</sup> - Y<sub>ij'</sub><sup>q</sup>|| \\geq || Y<sub>ij</sub><sup>q</sup> - Y<sub>i'j'</sub><sup>q'</sup> || )"
   ]
  },
  {
   "cell_type": "code",
   "execution_count": 1,
   "metadata": {
    "collapsed": false
   },
   "outputs": [],
   "source": [
    "\"\"\"Step 2: Sample data from null\"\"\"\n",
    "\n",
    "import numpy as np\n",
    "\n",
    "# define number of rois\n",
    "n=70\n",
    "\n",
    "# define number of subjects per class\n",
    "S=150\n",
    "s0 = S/2\n",
    "s1 = S-s0\n",
    "\n",
    "# sample graph distribution: G_i ~ ER(p_i)\n",
    "g0 = 1 * (np.random.rand( n, n, s0) > 0.50) # (null), 0.52 (classes)\n",
    "g1 = 1 * (np.random.rand( n, n, s1) > 0.50) # (null), 0.48 (classes)\n",
    "\n",
    "# compute feature of data\n",
    "mbar0 = np.sum(g0, axis=(0,1))\n",
    "mbar1 = np.sum(g1, axis=(0,1))\n"
   ]
  },
  {
   "cell_type": "code",
   "execution_count": 2,
   "metadata": {
    "collapsed": false
   },
   "outputs": [
    {
     "name": "stdout",
     "output_type": "stream",
     "text": [
      "We can say with 95% certainty that \n"
     ]
    }
   ],
   "source": [
    "\"\"\"Step 3: Test hypothesis\"\"\"\n",
    "\n",
    "from scipy import stats\n",
    "\n",
    "# compute t-test on feature\n",
    "p = stats.ttest_ind(mbar0, mbar1)[1]\n",
    "\n",
    "result = p < 0.05\n",
    "print \"We can say with 95% certainty that \""
   ]
  },
  {
   "cell_type": "code",
   "execution_count": 3,
   "metadata": {
    "collapsed": false
   },
   "outputs": [
    {
     "data": {
      "image/png": "[encoded data removed]",
      "text/plain": [
       "<matplotlib.figure.Figure at 0x107c67790>"
      ]
     },
     "metadata": {},
     "output_type": "display_data"
    }
   ],
   "source": [
    "\"\"\"Step 4: Repeat analysis over varying sample sizes and plot\"\"\"\n",
    "\n",
    "import matplotlib.pyplot as plt\n",
    "import itertools\n",
    "\n",
    "%matplotlib inline\n",
    "\n",
    "S = np.array((4, 6, 8, 10, 14, 18, 20, 26, 30, 40,\n",
    "              50, 60, 70, 80, 100, 120, 150, 200, 250,\n",
    "              300, 400, 500, 750, 1000, 1500, 2000,\n",
    "              3000, 5000))\n",
    "\n",
    "pvals = np.array((), dtype=np.dtype('float64'))\n",
    "# compute this statistic for various sizes of datasets\n",
    "for s in S:\n",
    "    s0 = s/2\n",
    "    s1 = s - s0\n",
    "\n",
    "    # compute this many times for each operating point to get average\n",
    "    p = np.array((), dtype=np.dtype('float64'))    \n",
    "    for _ in itertools.repeat(None,10):\n",
    "        g0 = 1 * (np.random.rand( n, n, s0) > 0.5) # (null), 0.52 (classes)\n",
    "        g1 = 1 * (np.random.rand( n, n, s1) > 0.5) # (null), 0.48 (classes)\n",
    "\n",
    "        # compute feature of data\n",
    "        mbar0 = np.sum(g0, axis=(0,1))\n",
    "        mbar1 = np.sum(g1, axis=(0,1))\n",
    "\n",
    "        # compute t-test on feature\n",
    "        p = np.append(p, stats.ttest_ind(mbar0, mbar1)[1])\n",
    "    \n",
    "    # record average p value at operating point\n",
    "    pvals = np.append(pvals, np.mean(p))\n",
    "\n",
    "# plot\n",
    "plt.scatter(S, pvals, hold=True, label='samples')\n",
    "plt.xscale('log')\n",
    "plt.xlabel('number of samples')\n",
    "plt.ylabel('p-value')\n",
    "plt.title('Strength of gender classification under null model')\n",
    "plt.axhline(0.05, color='red', linestyle='--', label='0.05 reference')\n",
    "plt.legend()\n",
    "plt.show()\n"
   ]
  },
  {
   "cell_type": "code",
   "execution_count": null,
   "metadata": {
    "collapsed": true
   },
   "outputs": [],
   "source": []
  }
 ],
 "metadata": {
  "kernelspec": {
   "display_name": "Python 2",
   "language": "python",
   "name": "python2"
  },
  "language_info": {
   "codemirror_mode": {
    "name": "ipython",
    "version": 2
   },
   "file_extension": ".py",
   "mimetype": "text/x-python",
   "name": "python",
   "nbconvert_exporter": "python",
   "pygments_lexer": "ipython2",
   "version": "2.7.11"
  }
 },
 "nbformat": 4,
 "nbformat_minor": 0
}
