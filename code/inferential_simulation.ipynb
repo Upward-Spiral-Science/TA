{
 "cells": [
  {
   "cell_type": "markdown",
   "metadata": {},
   "source": [
    "## Formal Simulated Inference\n",
    "\n",
    "### Step 1: Define formal test\n",
    "\n",
    "\n",
    "We sample graphs from \\mathscr{F}<sub>G,Y</sub> = { F<sub>G,Y</sub>(\\cdot; \\theta) : \\theta \\in \\Theta }. Since, all samples observed are graph matched (i.e. nodes are equal across graphs), we can look at just the distribution of adjacency matrices: F<sub>G,Y</sub> = F<sub>A,Y</sub>\n",
    "\n",
    "Assuming all edges are ~iid Bernoulli, F<sub>A,Y</sub> = \\prod<sub>u,v \\in \\mathscr{E}</sub> F<sub>A<sub>uv</sub>,Y</sub>, where \\mathscr{E} \\subset V x V is the set of edges in the graph.\n",
    "\n",
    "If there is an inter-class difference between the populations, F<sub>A,1</sub> \\noteq F<sub>A,0</sub>.\n",
    "\n",
    "We observe a feature of the graphs, \\bar{x<sub>i</sub>}, which indicates the sum of edges in the graphs, which will be used to classify the graphs. If the mentioned interclass difference exists, then \\bar{x<sub>1</sub>} \\noteq \\bar{x<sub>0</sub>}.\n",
    "\n",
    "The null hypothesis, that subjects are from the same distribution regardless from class, and the alternate, that a class difference exist, can be then written as follows:\n",
    "\n",
    "H<sub>0</sub>: F<sub>A,1</sub> = F<sub>A,0</sub> <br/>\n",
    "H<sub>A</sub>: F<sub>A,1</sub> \\noteq F<sub>A,0</sub> <br/>"
   ]
  },
  {
   "cell_type": "markdown",
   "metadata": {},
   "source": [
    "###  Step 2:  Sample data from null"
   ]
  },
  {
   "cell_type": "code",
   "execution_count": 1,
   "metadata": {
    "collapsed": false
   },
   "outputs": [],
   "source": [
    "import numpy as np\n",
    "# for reproducibility, set random seed\n",
    "np.random.seed(123456789)\n",
    "\n",
    "# define number of rois\n",
    "n=70\n",
    "\n",
    "# define number of subjects per class\n",
    "S=150\n",
    "s0 = S/2\n",
    "s1 = S-s0\n",
    "\n",
    "# sample graph distribution: G_i ~ ER(p_i)\n",
    "g0 = 1 * (np.random.rand( n, n, s0) > 0.50) # (null), 0.52 (classes)\n",
    "g1 = 1 * (np.random.rand( n, n, s1) > 0.50) # (null), 0.48 (classes)\n",
    "\n",
    "# compute feature of data\n",
    "mbar0 = np.sum(g0, axis=(0,1))\n",
    "mbar1 = np.sum(g1, axis=(0,1))\n"
   ]
  },
  {
   "cell_type": "markdown",
   "metadata": {},
   "source": [
    "### Step 3: Test hypothesis"
   ]
  },
  {
   "cell_type": "code",
   "execution_count": 2,
   "metadata": {
    "collapsed": false
   },
   "outputs": [
    {
     "name": "stdout",
     "output_type": "stream",
     "text": [
      "p-value: 0.0754598321872\n",
      "Based on this we can reject the null model with 95% certainty: False\n"
     ]
    }
   ],
   "source": [
    "from scipy import stats\n",
    "\n",
    "# compute t-test on feature\n",
    "p = stats.ttest_ind(mbar0, mbar1)[1]\n",
    "\n",
    "result = p < 0.05\n",
    "print \"p-value: \" + str(p)\n",
    "print \"Based on this we can reject the null model with 95% certainty: \" + str(result)"
   ]
  },
  {
   "cell_type": "markdown",
   "metadata": {},
   "source": [
    "### Step 4: Repeat analysis over varying sample sizes and plot"
   ]
  },
  {
   "cell_type": "code",
   "execution_count": 3,
   "metadata": {
    "collapsed": false
   },
   "outputs": [
    {
     "data": {
      "image/png": "[encoded data removed]",
      "text/plain": [
       "<matplotlib.figure.Figure at 0x10b4d86d0>"
      ]
     },
     "metadata": {},
     "output_type": "display_data"
    }
   ],
   "source": [
    "import matplotlib.pyplot as plt\n",
    "import itertools\n",
    "\n",
    "%matplotlib inline\n",
    "\n",
    "S = np.array((4, 6, 8, 10, 14, 18, 20, 26, 30, 40,\n",
    "              50, 60, 70, 80, 100, 120, 150, 200, 250,\n",
    "              300, 400, 500, 750, 1000, 1500, 2000,\n",
    "              3000, 5000))\n",
    "\n",
    "pvals = np.array((), dtype=np.dtype('float64'))\n",
    "# compute this statistic for various sizes of datasets\n",
    "for s in S:\n",
    "    s0 = s/2\n",
    "    s1 = s - s0\n",
    "\n",
    "    # compute this many times for each operating point to get average\n",
    "    p = np.array((), dtype=np.dtype('float64'))    \n",
    "    for _ in itertools.repeat(None,15):\n",
    "        g0 = 1 * (np.random.rand( n, n, s0) > 0.5) # (null), 0.52 (classes)\n",
    "        g1 = 1 * (np.random.rand( n, n, s1) > 0.5) # (null), 0.48 (classes)\n",
    "\n",
    "        # compute feature of data\n",
    "        mbar0 = np.sum(g0, axis=(0,1))\n",
    "        mbar1 = np.sum(g1, axis=(0,1))\n",
    "\n",
    "        # compute t-test on feature\n",
    "        p = np.append(p, stats.ttest_ind(mbar0, mbar1)[1])\n",
    "    \n",
    "    # record average p value at operating point\n",
    "    pvals = np.append(pvals, np.mean(p))\n",
    "\n",
    "# plot\n",
    "plt.scatter(S, pvals, hold=True, label='samples')\n",
    "plt.xscale('log')\n",
    "plt.xlabel('number of samples')\n",
    "plt.ylabel('p-value')\n",
    "plt.title('Strength of gender classification under null model')\n",
    "plt.axhline(0.05, color='red', linestyle='--', label='0.05 reference')\n",
    "plt.legend()\n",
    "plt.show()\n"
   ]
  }
 ],
 "metadata": {
  "kernelspec": {
   "display_name": "Python 2",
   "language": "python",
   "name": "python2"
  },
  "language_info": {
   "codemirror_mode": {
    "name": "ipython",
    "version": 2
   },
   "file_extension": ".py",
   "mimetype": "text/x-python",
   "name": "python",
   "nbconvert_exporter": "python",
   "pygments_lexer": "ipython2",
   "version": "2.7.11"
  }
 },
 "nbformat": 4,
 "nbformat_minor": 0
}
