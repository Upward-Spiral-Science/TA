{
 "cells": [
  {
   "cell_type": "markdown",
   "metadata": {},
   "source": [
    "## Formal Simulated Inference\n",
    "1. Define F (i.e. your model and assumptions)\n",
    "2. Formalize test\n",
    "3. Describe test statistic\n",
    "4. \n",
    "  1. Sample data from F \\in \\mathscr{F}_0\n",
    "  2. Sample data from F \\in \\mathscr{F}_A\n",
    "5. \n",
    "  1. Plot power vs n (i.e. perspective power analysis)\n",
    "  2. Plot power vs n (i.e. perspective power analysis)\n",
    "6. Apply to data\n",
    " \n",
    "### Step 1: Define model and assumptions\n",
    "X_i, Y_i \\sim F_{XY} \\in \\mathscr{F}\n",
    "x_i \\in \\mathbb{R}  (height)\n",
    "y_i \\in {0,1}    (sex)\n",
    "\n",
    "Recall the law of total probability: F_{XY} = F_{X|Y}F_Y. Now, with multiple classes,\n",
    "\n",
    "F_{XY} = F_{X|Y=0}F_{Y=0} + F_{X|Y=1}F_{Y=1}\n",
    "F_{Y=0} = Bern(\\pi)\n",
    "\n",
    "F_{X|0} = \\mathscr{N}(\\mu_0, \\sigma_0^2)\n",
    "F_{X|!} = \\mathscr{N}(\\mu_1, \\sigma_1^2)\n",
    "\n",
    "### Step 2: Formalize test\n",
    "H_0: \\mu_0 = \\mu_1 && \\sigma_0 = \\sigma_1 <br/> \\to || \\mu_0 - \\mu_1 || < \\delta\n",
    "H_A: \\mu_0 != \\mu_1  || \\sigma_0 != \\sigma_1\n",
    "\n",
    "**OR**\n",
    "\n",
    "H_0: \\mu_0 = \\mu_1 <br/>\n",
    "H_A: \\mu_0 != \\mu_1\n",
    "\n",
    "\\alpha, the critical value, indicates the power of your null distribution under your test as n \\to \\infty\n",
    "\n",
    "### Step 3: Describe test statistic\n",
    "From sample, estimate || \\hat{\\mu_0} - \\hat{\\mu_1} || = \\hat{delta}.\n",
    "\n",
    "Then, we estimate the distribution of \\hat{delta} under this test statistic, and reject null if \\hat{delta} is in the tails of the distribution."
   ]
  },
  {
   "cell_type": "markdown",
   "metadata": {},
   "source": [
    "### Intermediate Step"
   ]
  },
  {
   "cell_type": "code",
   "execution_count": 31,
   "metadata": {
    "collapsed": false
   },
   "outputs": [],
   "source": [
    "import numpy as np\n",
    "from scipy import stats\n",
    "import matplotlib.pyplot as plt\n",
    "import itertools\n",
    "\n",
    "%matplotlib inline\n",
    "\n",
    "np.random.seed(123456789)  # for reproducibility, set random seed\n",
    "alpha = 0.05  # define alpha\n",
    "r = 20  # define number of rois\n",
    "N = 100 # number of samples at each iteration\n",
    "\n",
    "# define number of subjects per class\n",
    "S = np.array((4, 6, 8, 10, 14, 18, 20, 26, 30, 40,\n",
    "              50, 60, 70, 80, 100, 120, 150, 200, 250,\n",
    "              300, 400, 500, 750, 1000, 1500, 2000,\n",
    "              3000, 5000))"
   ]
  },
  {
   "cell_type": "markdown",
   "metadata": {},
   "source": [
    "###  Step 4A:  Sample data from null"
   ]
  },
  {
   "cell_type": "code",
   "execution_count": 32,
   "metadata": {
    "collapsed": false
   },
   "outputs": [],
   "source": [
    "pow_null = np.array((), dtype=np.dtype('float64'))\n",
    "# compute this statistic for various sizes of datasets\n",
    "for s in S:\n",
    "    s0 = s/2\n",
    "    s1 = s - s0\n",
    "\n",
    "    # compute this many times for each operating point to get average\n",
    "    p = np.array((), dtype=np.dtype('float64'))    \n",
    "    for _ in itertools.repeat(None,N):\n",
    "        g0 = 1 * (np.random.rand( r, r, s0) > 0.5) # (null), 0.52 (classes)\n",
    "        g1 = 1 * (np.random.rand( r, r, s1) > 0.5) # (null), 0.48 (classes)\n",
    "\n",
    "        # compute feature of data\n",
    "        mbar0 = np.sum(g0, axis=(0,1))\n",
    "        mbar1 = np.sum(g1, axis=(0,1))\n",
    "\n",
    "        # compute t-test on feature\n",
    "        p = np.append(p, stats.wilcoxon(mbar0, mbar1)[1])\n",
    "    \n",
    "    # record average p value at operating point\n",
    "    pow_null = np.append(pow_null, np.sum(1.0*(p < alpha))/N)"
   ]
  },
  {
   "cell_type": "markdown",
   "metadata": {},
   "source": [
    "###  Step 4B:  Sample data from alternate"
   ]
  },
  {
   "cell_type": "code",
   "execution_count": 33,
   "metadata": {
    "collapsed": false
   },
   "outputs": [],
   "source": [
    "pow_alt = np.array((), dtype=np.dtype('float64'))\n",
    "# compute this statistic for various sizes of datasets\n",
    "for s in S:\n",
    "    s0 = s/2\n",
    "    s1 = s - s0\n",
    "\n",
    "    # compute this many times for each operating point to get average\n",
    "    p = np.array((), dtype=np.dtype('float64'))    \n",
    "    for _ in itertools.repeat(None,N):\n",
    "        g0 = 1 * (np.random.rand( r, r, s0) > 0.52) # (null), 0.52 (classes)\n",
    "        g1 = 1 * (np.random.rand( r, r, s1) > 0.48) # (null), 0.48 (classes)\n",
    "\n",
    "        # compute feature of data\n",
    "        mbar0 = np.sum(g0, axis=(0,1))\n",
    "        mbar1 = np.sum(g1, axis=(0,1))\n",
    "\n",
    "        # compute t-test on feature\n",
    "        p = np.append(p, stats.wilcoxon(mbar0, mbar1)[1])\n",
    "    \n",
    "    # record average p value at operating point\n",
    "    pow_alt = np.append(pow_alt, np.sum(1.0*(p < alpha))/N)"
   ]
  },
  {
   "cell_type": "markdown",
   "metadata": {},
   "source": [
    "### Step 5: Plot power vs n on null set"
   ]
  },
  {
   "cell_type": "code",
   "execution_count": 34,
   "metadata": {
    "collapsed": false
   },
   "outputs": [
    {
     "data": {
      "image/png": "[encoded data removed]",
      "text/plain": [
       "<matplotlib.figure.Figure at 0x106f25810>"
      ]
     },
     "metadata": {},
     "output_type": "display_data"
    }
   ],
   "source": [
    "plt.scatter(S, pow_null, hold=True, label='null')\n",
    "plt.scatter(S, pow_alt, color='green', hold=True, label='alt')\n",
    "plt.xscale('log')\n",
    "plt.xlabel('number of samples')\n",
    "plt.ylabel('power')\n",
    "plt.title('Strength of gender classification under null model')\n",
    "plt.axhline(alpha, color='red', linestyle='--', label='alpha')\n",
    "plt.legend(loc=5)\n",
    "plt.show()"
   ]
  },
  {
   "cell_type": "markdown",
   "metadata": {},
   "source": [
    "### [old] Step 1: Define formal test\n",
    "We sample graphs from \\mathscr{F}<sub>G,Y</sub> = { F<sub>G,Y</sub>(\\cdot; \\theta) : \\theta \\in \\Theta }. Since, all samples observed are graph matched (i.e. nodes are equal across graphs), we can look at just the distribution of adjacency matrices: F<sub>G,Y</sub> = F<sub>A,Y</sub>\n",
    "\n",
    "Assuming all edges are ~iid Bernoulli, F<sub>A,Y</sub> = \\prod<sub>u,v \\in \\mathscr{E}</sub> F<sub>A<sub>uv</sub>,Y</sub>, where \\mathscr{E} \\subset V x V is the set of edges in the graph.\n",
    "\n",
    "If there is an inter-class difference between the populations, F<sub>A,1</sub> \\noteq F<sub>A,0</sub>.\n",
    "\n",
    "We observe a feature of the graphs, \\bar{x<sub>i</sub>}, which indicates the sum of edges in the graphs, which will be used to classify the graphs. If the mentioned interclass difference exists, then \\bar{x<sub>1</sub>} \\noteq \\bar{x<sub>0</sub>}.\n",
    "\n",
    "The null hypothesis, that subjects are from the same distribution regardless from class, and the alternate, that a class difference exist, can be then written as follows:\n",
    "\n",
    "H<sub>0</sub>: F<sub>A,1</sub> = F<sub>A,0</sub> <br/>\n",
    "H<sub>A</sub>: F<sub>A,1</sub> \\noteq F<sub>A,0</sub> <br/>"
   ]
  }
 ],
 "metadata": {
  "kernelspec": {
   "display_name": "Python 2",
   "language": "python",
   "name": "python2"
  },
  "language_info": {
   "codemirror_mode": {
    "name": "ipython",
    "version": 2
   },
   "file_extension": ".py",
   "mimetype": "text/x-python",
   "name": "python",
   "nbconvert_exporter": "python",
   "pygments_lexer": "ipython2",
   "version": "2.7.11"
  }
 },
 "nbformat": 4,
 "nbformat_minor": 0
}
