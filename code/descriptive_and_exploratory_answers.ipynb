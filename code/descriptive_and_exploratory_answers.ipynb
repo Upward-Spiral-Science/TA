{
 "cells": [
  {
   "cell_type": "markdown",
   "metadata": {},
   "source": [
    "### Answering Descriptive and Exploratory Questions About my Project"
   ]
  },
  {
   "cell_type": "code",
   "execution_count": 1,
   "metadata": {
    "collapsed": false
   },
   "outputs": [
    {
     "name": "stdout",
     "output_type": "stream",
     "text": [
      "Datasets: ../data/MRN114, ../data/KKI2009, ../data/SWU4\n",
      "D = 3\n"
     ]
    }
   ],
   "source": [
    "# Import packages\n",
    "import igraph as ig\n",
    "import numpy as np\n",
    "import math\n",
    "import os\n",
    "from subprocess import Popen, PIPE\n",
    "\n",
    "# Initializing dataset names\n",
    "dnames = list(['../data/MRN114', '../data/KKI2009', '../data/SWU4'])\n",
    "print \"Datasets: \" + \", \".join(dnames)\n",
    "print \"D = \" + str(len(dnames))\n",
    "\n",
    "# Getting graph names\n",
    "fs = list()\n",
    "for dd in dnames:\n",
    "        fs.extend([root+'/'+file for root, dir, files in os.walk(dd) for file in files])"
   ]
  },
  {
   "cell_type": "markdown",
   "metadata": {},
   "source": [
    "**Descriptive** <br />\n",
    "- *What is N<sub>i</sub> for all i?*"
   ]
  },
  {
   "cell_type": "code",
   "execution_count": 2,
   "metadata": {
    "collapsed": false
   },
   "outputs": [
    {
     "name": "stdout",
     "output_type": "stream",
     "text": [
      "N_i for each dataset (same order as above): 114, 42, 454\n",
      "Total N = 610\n"
     ]
    }
   ],
   "source": [
    "# Get lengths of sublists and total list\n",
    "print \"N_i for each dataset (same order as above): \" +\\\n",
    "      \", \".join([str(len(filter(lambda x: dd in x, fs))) for dd in dnames])\n",
    "print \"Total N = \" + str(len(fs))\n"
   ]
  },
  {
   "cell_type": "markdown",
   "metadata": {},
   "source": [
    "- *What is |V|?*"
   ]
  },
  {
   "cell_type": "code",
   "execution_count": 3,
   "metadata": {
    "collapsed": false
   },
   "outputs": [
    {
     "name": "stdout",
     "output_type": "stream",
     "text": [
      "|V| = 70\n"
     ]
    }
   ],
   "source": [
    "# We know that |V| is the same for all graphs, so here we really only need to load in 1\n",
    "graph = ig.Graph.Read_GraphML(fs[0])\n",
    "V = graph.vcount()\n",
    "print \"|V| = \" + str(V)"
   ]
  },
  {
   "cell_type": "markdown",
   "metadata": {},
   "source": [
    "- *Do the graphs G<sub>n<sub>i</sub></sub> contain any values of A that cannot be processed traditionally (i.e. inf, NaN)?*"
   ]
  },
  {
   "cell_type": "code",
   "execution_count": 4,
   "metadata": {
    "collapsed": false
   },
   "outputs": [
    {
     "data": {
      "text/plain": [
       "(70, 70, 610)"
      ]
     },
     "execution_count": 4,
     "metadata": {},
     "output_type": "execute_result"
    }
   ],
   "source": [
    "# We actually need the graphs in memory now, it seems. I'll make a janky function for this\n",
    "# in case I want to do it again later for some reason.\n",
    "def loadGraphs(filenames, rois, printer=False):\n",
    "    A = np.zeros((rois, rois, len(filenames)))\n",
    "    for idx, files in enumerate(filenames):\n",
    "        if printer:\n",
    "            print \"Loading: \" + files\n",
    "        g = ig.Graph.Read_GraphML(files)\n",
    "        tempg = g.get_adjacency(attribute='weight')\n",
    "        A[:,:,idx] = np.asarray(tempg.data)\n",
    "    return A\n",
    "\n",
    "A = loadGraphs(fs, V)\n",
    "A.shape"
   ]
  },
  {
   "cell_type": "code",
   "execution_count": 5,
   "metadata": {
    "collapsed": false
   },
   "outputs": [
    {
     "name": "stdout",
     "output_type": "stream",
     "text": [
      "Our data contains 0 NaN values\n",
      "Our data contains 0 Inf values\n"
     ]
    }
   ],
   "source": [
    "# Now that my graphs are here, let's count NaNs and Infs in the set of them\n",
    "nans= np.count_nonzero(np.isnan(A))\n",
    "infs= np.count_nonzero(np.isinf(A))\n",
    "print \"Our data contains \" + str(nans) + \" NaN values\"\n",
    "print \"Our data contains \" + str(infs) + \" Inf values\""
   ]
  },
  {
   "cell_type": "markdown",
   "metadata": {},
   "source": [
    "- *How sparse, |E<sub>n<sub>i</sub></sub>| / |V<sub>n<sub>i</sub></sub>|x|V<sub>n<sub>i</sub></sub>|, are the graphs?*"
   ]
  },
  {
   "cell_type": "code",
   "execution_count": 6,
   "metadata": {
    "collapsed": false
   },
   "outputs": [
    {
     "name": "stdout",
     "output_type": "stream",
     "text": [
      "The fraction of possible edges that exist in our data is: 0.561401806624\n"
     ]
    }
   ],
   "source": [
    "# First I'll want to binarize my adjacency matrix, then I can do population\n",
    "# sparsity by summing all edges and diving by total number of possible edges.\n",
    "# Alternatively, I could've done this per graph and averaged, or per dataset\n",
    "# and averaged. I chose this one because I did.\n",
    "bin_graph = 1.0*(A > 0)\n",
    "sparsity = np.sum(bin_graph) / (V*V*len(fs))\n",
    "print \"The fraction of possible edges that exist in our data is: \" + str(sparsity)"
   ]
  },
  {
   "cell_type": "markdown",
   "metadata": {},
   "source": [
    "**Exploratory** <br />\n",
    "- *What is mean(|E|) for each dataset i?*"
   ]
  },
  {
   "cell_type": "code",
   "execution_count": null,
   "metadata": {
    "collapsed": true
   },
   "outputs": [],
   "source": []
  },
  {
   "cell_type": "markdown",
   "metadata": {},
   "source": [
    "- *What is the average graph, where average here means the graph consiting of edges and weights corresponding to the average weight of a given potential edge across the all the datasets?*"
   ]
  },
  {
   "cell_type": "code",
   "execution_count": null,
   "metadata": {
    "collapsed": true
   },
   "outputs": [],
   "source": []
  },
  {
   "cell_type": "markdown",
   "metadata": {},
   "source": [
    "- *What is the distribution of max(A)-min(A) (i.e. dynamic range) for each dataset i?*"
   ]
  },
  {
   "cell_type": "code",
   "execution_count": null,
   "metadata": {
    "collapsed": true
   },
   "outputs": [],
   "source": []
  }
 ],
 "metadata": {
  "kernelspec": {
   "display_name": "Python 2",
   "language": "python",
   "name": "python2"
  },
  "language_info": {
   "codemirror_mode": {
    "name": "ipython",
    "version": 2
   },
   "file_extension": ".py",
   "mimetype": "text/x-python",
   "name": "python",
   "nbconvert_exporter": "python",
   "pygments_lexer": "ipython2",
   "version": "2.7.11"
  }
 },
 "nbformat": 4,
 "nbformat_minor": 0
}
