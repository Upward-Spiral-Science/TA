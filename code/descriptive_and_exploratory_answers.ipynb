{
 "cells": [
  {
   "cell_type": "markdown",
   "metadata": {},
   "source": [
    "### Answering Descriptive and Exploratory Questions About my Project"
   ]
  },
  {
   "cell_type": "code",
   "execution_count": 1,
   "metadata": {
    "collapsed": false
   },
   "outputs": [
    {
     "name": "stdout",
     "output_type": "stream",
     "text": [
      "Datasets: MRN114, KKI2009, SWU4\n",
      "D = 3\n"
     ]
    }
   ],
   "source": [
    "# Import packages\n",
    "import igraph as ig\n",
    "import os\n",
    "from subprocess import Popen, PIPE\n",
    "\n",
    "# Initializing dataset names\n",
    "dnames = list(['MRN114', 'KKI2009', 'SWU4'])\n",
    "print \"Datasets: \" + \", \".join(dnames)\n",
    "print \"D = \" + str(len(dnames))\n",
    "\n",
    "# Getting graph names\n",
    "a = list()\n",
    "for dd in dnames:\n",
    "        a.extend([root+'/'+file for root, dir, files in os.walk(dd) for file in files])"
   ]
  },
  {
   "cell_type": "markdown",
   "metadata": {},
   "source": [
    "**Descriptive** <br />\n",
    "- *What is N<sub>i</sub> for all i?*"
   ]
  },
  {
   "cell_type": "code",
   "execution_count": 2,
   "metadata": {
    "collapsed": false
   },
   "outputs": [
    {
     "name": "stdout",
     "output_type": "stream",
     "text": [
      "N_i for each dataset (same order as above): 114, 42, 454\n",
      "Total N = 610\n"
     ]
    }
   ],
   "source": [
    "# Get lengths of sublists and total list\n",
    "\n",
    "print \"N_i for each dataset (same order as above): \" +\\\n",
    "      \", \".join([str(len(filter(lambda x: dd in x, a))) for dd in dnames])\n",
    "print \"Total N = \" + str(len(a))\n"
   ]
  },
  {
   "cell_type": "markdown",
   "metadata": {},
   "source": [
    "- *What is |V|?*"
   ]
  },
  {
   "cell_type": "code",
   "execution_count": 3,
   "metadata": {
    "collapsed": false
   },
   "outputs": [
    {
     "name": "stdout",
     "output_type": "stream",
     "text": [
      "|V| = 70\n"
     ]
    }
   ],
   "source": [
    "# We know that |V| is the same for all graphs, so here we really only need to load in 1\n",
    "graph = ig.Graph.Read_GraphML(a[0])\n",
    "print \"|V| = \" + str(graph.vcount())"
   ]
  },
  {
   "cell_type": "markdown",
   "metadata": {},
   "source": [
    "- *Are there graphs G<sub>n<sub>i</sub></sub> that are expected but not present?*"
   ]
  },
  {
   "cell_type": "code",
   "execution_count": null,
   "metadata": {
    "collapsed": true
   },
   "outputs": [],
   "source": [
    "# This is a tricky one, since we only know our data based on the directory search...\n",
    "# How about let's check if every file that appears does successfully load as a graph\n",
    "# (this is a lot of overhead, as I'm loading 610 graphs, but I'll need them anyways\n",
    "# so I'll let it slide)\n"
   ]
  },
  {
   "cell_type": "markdown",
   "metadata": {},
   "source": [
    "- *Do the graphs G<sub>n<sub>i</sub></sub> contain any values of A that cannot be processed traditionally (i.e. inf, NaN)?*"
   ]
  },
  {
   "cell_type": "code",
   "execution_count": null,
   "metadata": {
    "collapsed": true
   },
   "outputs": [],
   "source": []
  },
  {
   "cell_type": "markdown",
   "metadata": {},
   "source": [
    "- *How sparse, |E<sub>n<sub>i</sub></sub>| / |V<sub>n<sub>i</sub></sub>|x|V<sub>n<sub>i</sub></sub>|, are the graphs?*"
   ]
  },
  {
   "cell_type": "code",
   "execution_count": null,
   "metadata": {
    "collapsed": true
   },
   "outputs": [],
   "source": []
  },
  {
   "cell_type": "markdown",
   "metadata": {},
   "source": [
    "**Exploratory** <br />\n",
    "- *What is mean(|E|) for each dataset i?*"
   ]
  },
  {
   "cell_type": "code",
   "execution_count": null,
   "metadata": {
    "collapsed": true
   },
   "outputs": [],
   "source": []
  },
  {
   "cell_type": "markdown",
   "metadata": {},
   "source": [
    "- *What is the average graph, where average here means the graph consiting of edges and weights corresponding to the average weight of a given potential edge across the all the datasets?*"
   ]
  },
  {
   "cell_type": "code",
   "execution_count": null,
   "metadata": {
    "collapsed": true
   },
   "outputs": [],
   "source": []
  },
  {
   "cell_type": "markdown",
   "metadata": {},
   "source": [
    "- *What is the distribution of max(A)-min(A) (i.e. dynamic range) for each dataset i?*"
   ]
  },
  {
   "cell_type": "code",
   "execution_count": null,
   "metadata": {
    "collapsed": true
   },
   "outputs": [],
   "source": []
  }
 ],
 "metadata": {
  "kernelspec": {
   "display_name": "Python 2",
   "language": "python",
   "name": "python2"
  },
  "language_info": {
   "codemirror_mode": {
    "name": "ipython",
    "version": 2
   },
   "file_extension": ".py",
   "mimetype": "text/x-python",
   "name": "python",
   "nbconvert_exporter": "python",
   "pygments_lexer": "ipython2",
   "version": "2.7.11"
  }
 },
 "nbformat": 4,
 "nbformat_minor": 0
}
